{
  "nbformat": 4,
  "nbformat_minor": 0,
  "metadata": {
    "colab": {
      "name": "ppm separable permutations.ipynb",
      "provenance": []
    },
    "kernelspec": {
      "name": "python3",
      "display_name": "Python 3"
    },
    "language_info": {
      "name": "python"
    }
  },
  "cells": [
    {
      "cell_type": "code",
      "execution_count": 1,
      "metadata": {
        "colab": {
          "base_uri": "https://localhost:8080/"
        },
        "id": "9s7Ahvj6dX0m",
        "outputId": "b02a5e3c-cc6d-437c-d068-b7e0519026cb"
      },
      "outputs": [
        {
          "output_type": "stream",
          "name": "stdout",
          "text": [
            "Looking in indexes: https://pypi.org/simple, https://us-python.pkg.dev/colab-wheels/public/simple/\n",
            "Collecting anytree\n",
            "  Downloading anytree-2.8.0-py2.py3-none-any.whl (41 kB)\n",
            "\u001b[K     |████████████████████████████████| 41 kB 304 kB/s \n",
            "\u001b[?25hRequirement already satisfied: six>=1.9.0 in /usr/local/lib/python3.7/dist-packages (from anytree) (1.15.0)\n",
            "Installing collected packages: anytree\n",
            "Successfully installed anytree-2.8.0\n"
          ]
        }
      ],
      "source": [
        "pip install anytree"
      ]
    },
    {
      "cell_type": "code",
      "source": [
        "from anytree import Node, RenderTree, AsciiStyle, LevelOrderGroupIter, findall_by_attr\n",
        "import numpy as np\n",
        "\n",
        "#create test tree and test permutation\n",
        "root = Node(\"+\")\n",
        "left = Node(\"+\", parent=root)\n",
        "right = Node(\"-\", parent = root)\n",
        "l2 = Node(1, parent = left)\n",
        "r2 = Node (2, parent = left)\n",
        "l3 = Node(4, parent = right)\n",
        "r3 = Node(3, parent = right)\n",
        "\n",
        "sigma =[1, 2, 3, 4]\n"
      ],
      "metadata": {
        "id": "G4xmdk74dmp-"
      },
      "execution_count": 2,
      "outputs": []
    },
    {
      "cell_type": "code",
      "source": [
        "def values_leaves(tree, permutation, list_nodes):\n",
        "  #list_nodes= [[node for node in children] for children in LevelOrderGroupIter(root)]\n",
        "  leaves= list_nodes[-1]\n",
        "  n = len(permutation)\n",
        "  list_dictionaries=[]\n",
        "  for node in leaves:\n",
        "    values = np.zeros((n,n,n,n))\n",
        "    thisdict = {\n",
        "    \"node\": node,\n",
        "    \"values\": values\n",
        "    }\n",
        "    for i in range(n):\n",
        "      for j in range(i, n):\n",
        "        for a in range(n):\n",
        "          for b in range(a, n):\n",
        "            if int(permutation[i]) == a+1:\n",
        "              values[i][j][a][b] =1\n",
        "    list_dictionaries.append(thisdict)\n",
        "  return list_dictionaries\n",
        "\n",
        "def ppm_step(tree, permutation, depth, list_dictionaries, list_nodes):\n",
        "  #list_nodes= [[node for node in children] for children in LevelOrderGroupIter(root)]\n",
        "  nodes= list_nodes[depth]\n",
        "  n = len(permutation)\n",
        "  for node in nodes:\n",
        "    values = np.zeros((n,n,n,n))\n",
        "    thisdict = {\n",
        "    \"node\": node,\n",
        "    \"values\": values\n",
        "    }\n",
        "    left_vals = [dict[\"values\"] for dict in list_dictionaries if dict[\"node\"]== node.children[0]]\n",
        "    right_vals = [dict[\"values\"] for dict in list_dictionaries if dict[\"node\"]== node.children[1]]\n",
        "\n",
        "    for i in range(n):\n",
        "      for h in range(min(i+1,n-1),n):\n",
        "        for j in range(h, n):\n",
        "          for a in range(n):\n",
        "            for c in range(min(a+1, n-1), n):\n",
        "              for b in range(c, n):\n",
        "                if node.name == '+':\n",
        "                 \n",
        "                  values[i][j][a][b] += (left_vals[0][i][h-1][a][c-1]*right_vals[0][h][j][c][b]) #dictionary instead of array\n",
        "                elif node.name == '-':\n",
        "                  values[i][j][a][b] += (left_vals[0][i][h-1][c][b]*right_vals[0][h][j][a][c-1]) #dictionary instead of array\n",
        "    thisdict[\"values\"]= values.copy()\n",
        "\n",
        "    list_dictionaries.append(thisdict)\n",
        "  return list_dictionaries\n",
        "\n",
        "def ppm(tree, permutation):\n",
        "  list_nodes0= [[node for node in children] for children in LevelOrderGroupIter(root)]\n",
        "  list_dictionaries0= values_leaves(tree, permutation, list_nodes0 )\n",
        "\n",
        "  for depth in range(len(list_nodes0)-1):\n",
        "    list_dictionaries0= ppm_step(tree, permutation, len(list_nodes0)-2-depth, list_dictionaries0, list_nodes0)\n",
        "  return list_dictionaries0\n"
      ],
      "metadata": {
        "id": "fBlLi23GdueW"
      },
      "execution_count": 14,
      "outputs": []
    },
    {
      "cell_type": "code",
      "source": [
        "sol =ppm(root, [1,2,4,3,6,5])\n",
        "x=[i for i in sol if i[\"node\"]==root]\n"
      ],
      "metadata": {
        "id": "Tgiw0RMYec_n"
      },
      "execution_count": 19,
      "outputs": []
    },
    {
      "cell_type": "code",
      "source": [
        "x[0][\"values\"][0][5][0][5]"
      ],
      "metadata": {
        "colab": {
          "base_uri": "https://localhost:8080/"
        },
        "id": "Gr85CoPMegyv",
        "outputId": "d3325b30-501c-4d97-b11c-342c3e612a10"
      },
      "execution_count": 23,
      "outputs": [
        {
          "output_type": "execute_result",
          "data": {
            "text/plain": [
              "4.0"
            ]
          },
          "metadata": {},
          "execution_count": 23
        }
      ]
    },
    {
      "cell_type": "code",
      "source": [],
      "metadata": {
        "id": "E3I7oAcne0GE"
      },
      "execution_count": null,
      "outputs": []
    }
  ]
}